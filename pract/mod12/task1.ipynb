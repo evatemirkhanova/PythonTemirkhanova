{
 "cells": [
  {
   "cell_type": "markdown",
   "metadata": {},
   "source": [
    ". Выполнить задания:\n",
    "1.\tНормализовать базу данных относительно актеров. Выделить таблицу с актерами, а также таблицу многие-ко-многим `актер-фильм`. (Т.е. будут 3 таблицы: актеры, фильмы, актер-фильм. Сохранить новую бд как ‘task1.sqlite’.\n",
    "2.\tИсходя из этой таблицы, средствами SQL, вычислить наболее часто работающую друг с другом пару актеров.\n"
   ]
  },
  {
   "cell_type": "markdown",
   "metadata": {},
   "source": [
    "Добавим библиотеки"
   ]
  },
  {
   "cell_type": "code",
   "execution_count": 20,
   "metadata": {},
   "outputs": [],
   "source": [
    "import sqlite3\n",
    "import re"
   ]
  },
  {
   "cell_type": "markdown",
   "metadata": {},
   "source": [
    "Создадим базу данных и назовем ее 'task1.sqlite'\n",
    " \n",
    "Затем создадим курсор, который используется для выполнения операций базы данных, таких как выполнение SQL-запросов и извлечение данных."
   ]
  },
  {
   "cell_type": "code",
   "execution_count": 21,
   "metadata": {},
   "outputs": [],
   "source": [
    "conn = sqlite3.connect('task1.sqlite') \n",
    "cursor = conn.cursor()"
   ]
  },
  {
   "cell_type": "markdown",
   "metadata": {},
   "source": [
    "Создадим таблицы actors (для актеров), movies (фильмы), actor_movie (таблица-связь многие ко многим актер-фильм)"
   ]
  },
  {
   "cell_type": "code",
   "execution_count": null,
   "metadata": {},
   "outputs": [],
   "source": [
    "\n",
    "cursor.execute('''CREATE TABLE actors (\n",
    "                id INTEGER PRIMARY KEY,\n",
    "                name TEXT )\n",
    "''')\n"
   ]
  },
  {
   "cell_type": "code",
   "execution_count": null,
   "metadata": {},
   "outputs": [],
   "source": [
    "\n",
    "cursor.execute('''CREATE TABLE movies (\n",
    "                id INTEGER PRIMARY KEY,\n",
    "                title TEXT )\n",
    "''')\n",
    "\n",
    "cursor.execute('''CREATE TABLE actor_movie ( \n",
    "               actor_id INTEGER, \n",
    "               movie_id INTEGER, \n",
    "               FOREIGN KEY (actor_id) REFERENCES actors(id), \n",
    "               FOREIGN KEY (movie_id) REFERENCES movies(id) )\n",
    "''')\n",
    "\n",
    "# После создания таблиц происходит фиксация изменений в базе данных с помощью метода\n",
    "conn.commit()\n",
    "\n",
    "# и закрытие соединения с базой данных с помощью\n",
    "conn.close()"
   ]
  },
  {
   "cell_type": "markdown",
   "metadata": {},
   "source": [
    "Достаем информацию"
   ]
  },
  {
   "cell_type": "code",
   "execution_count": 24,
   "metadata": {},
   "outputs": [],
   "source": [
    "# код создает подключение к базе данных SQLite с именем \"netflix.sqlite\"\n",
    "connect_netflix = sqlite3.connect('netflix.sqlite')\n",
    "\n",
    "# затем создает курсор для выполнения операций базы данных\n",
    "cursor_netflix = connect_netflix.cursor()\n",
    "\n",
    "# Затем выполняется запрос SQL для извлечения данных из таблицы \"netflix_titles\"\n",
    "cursor_netflix.execute('select title, \"cast\" from netflix_titles')\n",
    "\n",
    "# Получаем результаты запроса и сохраняем их в переменную\n",
    "data = cursor_netflix.fetchall()\n",
    "\n",
    "# После этого соединение с базой данных закрывается.\n",
    "connect_netflix.close()"
   ]
  },
  {
   "cell_type": "markdown",
   "metadata": {},
   "source": [
    "Преобразуем в удобный вид"
   ]
  },
  {
   "cell_type": "code",
   "execution_count": 25,
   "metadata": {},
   "outputs": [],
   "source": [
    "# Создаем новый список с именем \"data_new\"\n",
    "data_new = []\n",
    "\n",
    "# и пустое множество \"unique_actors\" для зранения имен актеров\n",
    "unique_actors = set()\n",
    "\n",
    "# Для каждой строки...\n",
    "for row in data:\n",
    "    # извлекается название фильма и строка с актерами.\n",
    "    movie, cast_str = row\n",
    "    \n",
    "    # Строка с актерами разбивается с использованием регулярного выражения на отдельные имена актеров...\n",
    "    cast = re.split(r' ,|, |,', cast_str)\n",
    "\n",
    "    # ...которые затем добавляются в множество \"unique_actors\".\n",
    "    unique_actors = unique_actors.union(set(cast))\n",
    "\n",
    "    # данные о фильме и актерах добавляются в список \"data_new\" в виде кортежей (название фильма, список актеров).\n",
    "    data_new.append((movie, cast))"
   ]
  },
  {
   "cell_type": "markdown",
   "metadata": {},
   "source": [
    "Заполнение фильмами"
   ]
  },
  {
   "cell_type": "code",
   "execution_count": 26,
   "metadata": {},
   "outputs": [],
   "source": [
    "# подключение к базе данных SQLite с именем \"task1.sqlite\"\n",
    "connect_movies = sqlite3.connect('task1.sqlite')\n",
    "\n",
    "# создаем курсор для выполнения операций базы данных.\n",
    "cursor_movies = connect_movies.cursor()\n",
    "\n",
    "# Для каждой строки...\n",
    "for row in data_new:\n",
    "    # извлекается название фильма и список актеров. \n",
    "    movie, actors = row\n",
    "    \n",
    "    # Затем выполняется запрос SQL для вставки данных о фильме в таблицу \"movies\" \n",
    "    # с использованием метода \"execute\" курсора. \n",
    "    cursor_movies.execute(\"INSERT INTO movies VALUES (NULL, ?)\", (movie,))\n",
    "\n",
    "# После завершения итерации происходит фиксация изменений в базе данных с помощью метода \"commit()\"\n",
    "connect_movies.commit()\n",
    "\n",
    "# и закрытие соединения с базой данных с помощью \"close()\".\n",
    "connect_movies.close()"
   ]
  },
  {
   "cell_type": "markdown",
   "metadata": {},
   "source": [
    "Заполение актерами"
   ]
  },
  {
   "cell_type": "code",
   "execution_count": 27,
   "metadata": {},
   "outputs": [],
   "source": [
    "# подключение к базе данных SQLite с именем \"task1.sqlite\"\n",
    "connect_actors = sqlite3.connect('task1.sqlite')\n",
    "\n",
    "# создаем курсор для выполнения операций базы данных. \n",
    "cursor_actors = connect_actors.cursor()\n",
    "\n",
    "# Затем происходит итерация по уникальным актерам из множества \"unique_actors\"\n",
    "for actor in unique_actors:\n",
    "    # Для каждого актера выполняется запрос SQL для вставки его имени в таблицу \"actors\"\n",
    "    # с использованием метода \"execute\" курсора.\n",
    "    cursor_actors.execute(\"INSERT INTO actors VALUES (NULL, ?)\", (actor,))\n",
    "\n",
    "# После завершения итерации происходит фиксация изменений в базе данных с помощью метода \"commit()\"\n",
    "connect_actors.commit()\n",
    "\n",
    "# и закрытие соединения с базой данных с помощью \"close()\"\n",
    "connect_actors.close()"
   ]
  },
  {
   "cell_type": "markdown",
   "metadata": {},
   "source": [
    "Соединение многие-ко-многим"
   ]
  },
  {
   "cell_type": "code",
   "execution_count": 28,
   "metadata": {},
   "outputs": [],
   "source": [
    "# подключение к базе данных SQLite с именем \"task1.sqlite\"\n",
    "connect_task1 = sqlite3.connect('task1.sqlite')\n",
    "\n",
    "# создаем три курсора для выполнения операций базы данных:\n",
    "cursor_movies = connect_task1.cursor()\n",
    "cursor_actors = connect_task1.cursor()\n",
    "cursor_actor_movie = connect_task1.cursor()\n",
    "\n",
    "# Затем происходит итерация по данным из переменной \"data_new\".\n",
    "for i in data_new:\n",
    "    # Для каждого фильма и его актеров выполняется запрос SQL, \n",
    "    # чтобы получить идентификатор фильма и идентификаторы соответствующих актеров из таблиц \"movies\" и \"actors\".\n",
    "    movie, actors = i\n",
    "    cursor_movies.execute('SELECT id FROM movies WHERE title = ?', (movie,))\n",
    "    movie_id = cursor_movies.fetchone()\n",
    "    for actor in actors:\n",
    "        cursor_actors.execute('SELECT id FROM actors WHERE name = ?', (actor,))\n",
    "        actor_id = cursor_actors.fetchone()\n",
    "\n",
    "        # Затем выполняется запрос SQL для вставки соответствия между актером и фильмом \n",
    "        # в таблицу \"actor_movie\" с использованием метода \"execute\" курсора.  \n",
    "        cursor_actor_movie.execute(\"INSERT INTO actor_movie (actor_id, movie_id) VALUES (?, ?)\", (actor_id[0], movie_id[0])) \n",
    "        # добавление записи в таблицу\n",
    "\n",
    "# После завершения итерации происходит фиксация изменений в базе данных с помощью метода \"commit()\"\n",
    "connect_task1.commit()\n",
    "\n",
    "# закрытие соединения с базой данных с помощью \"close()\".\n",
    "connect_task1.close()"
   ]
  },
  {
   "cell_type": "markdown",
   "metadata": {},
   "source": [
    "Поиск актеров "
   ]
  },
  {
   "cell_type": "markdown",
   "metadata": {},
   "source": [
    "Этот код выполняет запрос к базе данных SQLite, чтобы найти пару актеров, которые чаще всего снимались вместе."
   ]
  },
  {
   "cell_type": "code",
   "execution_count": 29,
   "metadata": {},
   "outputs": [
    {
     "name": "stdout",
     "output_type": "stream",
     "text": [
      "Самая часто работающая друг с другом пара актеров:\n",
      "John Paul Tremblay и Robb Wells - сыграли вместе в 15 фильмах\n"
     ]
    }
   ],
   "source": [
    "# Создается подключение к базе данных SQLite с именем \"task1.sqlite\"\n",
    "conn = sqlite3.connect('task1.sqlite')\n",
    "# создается курсор для выполнения операций базы данных.\n",
    "cursor = conn.cursor()\n",
    "\n",
    "# С помощью метода \"execute\" курсора выполняется запрос SQL, который находит пару актеров,\n",
    "# сыгравших вместе в наибольшем количестве фильмов.\n",
    "# (Запрос включает операции объединения таблиц, группировки и сортировки)\n",
    "cursor.execute('''\n",
    "    SELECT a1.name AS actor1_name, a2.name AS actor2_name, COUNT(*) AS movies_together\n",
    "    FROM actor_movie am1\n",
    "    JOIN actor_movie am2 ON am1.movie_id = am2.movie_id AND am1.actor_id < am2.actor_id\n",
    "    JOIN actors a1 ON am1.actor_id = a1.id\n",
    "    JOIN actors a2 ON am2.actor_id = a2.id\n",
    "    GROUP BY actor1_name, actor2_name\n",
    "    ORDER BY movies_together DESC\n",
    "    LIMIT 1\n",
    "''')\n",
    "\n",
    "# Результат запроса извлекается с помощью метода \"fetchone()\" и сохраняется в переменной \"result\".\n",
    "result = cursor.fetchone()\n",
    "\n",
    "# Результат выводится на экран, отображая имена актеров и количество фильмов, в которых они снимались вместе.\n",
    "print(\"Самая часто работающая друг с другом пара актеров:\")\n",
    "print(f\"{result[0]} и {result[1]} - сыграли вместе в {result[2]} фильмах\")\n",
    "\n",
    "# После вывода результатов соединение с базой данных закрывается с помощью метода \"close()\".\n",
    "conn.close()"
   ]
  }
 ],
 "metadata": {
  "kernelspec": {
   "display_name": "Python 3",
   "language": "python",
   "name": "python3"
  },
  "language_info": {
   "codemirror_mode": {
    "name": "ipython",
    "version": 3
   },
   "file_extension": ".py",
   "mimetype": "text/x-python",
   "name": "python",
   "nbconvert_exporter": "python",
   "pygments_lexer": "ipython3",
   "version": "3.11.4"
  }
 },
 "nbformat": 4,
 "nbformat_minor": 2
}
